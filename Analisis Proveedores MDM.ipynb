{
 "cells": [
  {
   "cell_type": "markdown",
   "metadata": {},
   "source": [
    "### Proovedores"
   ]
  },
  {
   "cell_type": "markdown",
   "metadata": {},
   "source": [
    "#### Importaciones y lectura de objetos"
   ]
  },
  {
   "cell_type": "code",
   "execution_count": 1,
   "metadata": {},
   "outputs": [],
   "source": [
    "import pandas as pd"
   ]
  },
  {
   "cell_type": "code",
   "execution_count": 2,
   "metadata": {},
   "outputs": [],
   "source": [
    "LFA1_MDM = pd.read_excel(r\"./Data/Analisis Proveedores Actividad/MDM/LFA1_MDM.xlsx\", dtype='string')"
   ]
  },
  {
   "cell_type": "markdown",
   "metadata": {},
   "source": [
    "Cambiar headers"
   ]
  },
  {
   "cell_type": "code",
   "execution_count": 3,
   "metadata": {},
   "outputs": [],
   "source": [
    "new_headers = LFA1_MDM.iloc[0]  \n",
    "LFA1_MDM.columns = new_headers  \n",
    "LFA1_MDM = LFA1_MDM.iloc[1:]  \n"
   ]
  },
  {
   "cell_type": "markdown",
   "metadata": {},
   "source": [
    "ACTIVAS"
   ]
  },
  {
   "cell_type": "code",
   "execution_count": 5,
   "metadata": {},
   "outputs": [
    {
     "data": {
      "text/html": [
       "<div>\n",
       "<style scoped>\n",
       "    .dataframe tbody tr th:only-of-type {\n",
       "        vertical-align: middle;\n",
       "    }\n",
       "\n",
       "    .dataframe tbody tr th {\n",
       "        vertical-align: top;\n",
       "    }\n",
       "\n",
       "    .dataframe thead th {\n",
       "        text-align: right;\n",
       "    }\n",
       "</style>\n",
       "<table border=\"1\" class=\"dataframe\">\n",
       "  <thead>\n",
       "    <tr style=\"text-align: right;\">\n",
       "      <th></th>\n",
       "      <th>LIFNR</th>\n",
       "      <th>LAND1</th>\n",
       "      <th>NAME1</th>\n",
       "      <th>NAME2</th>\n",
       "      <th>NAME3</th>\n",
       "      <th>NAME4</th>\n",
       "      <th>ORT01</th>\n",
       "      <th>ORT02</th>\n",
       "      <th>PFACH</th>\n",
       "      <th>PSTL2</th>\n",
       "      <th>...</th>\n",
       "      <th>PSON2</th>\n",
       "      <th>PSON3</th>\n",
       "      <th>PSOVN</th>\n",
       "      <th>PSOTL</th>\n",
       "      <th>PSOHS</th>\n",
       "      <th>PSOST</th>\n",
       "      <th>TRANSPORT_CHAIN</th>\n",
       "      <th>STAGING_TIME</th>\n",
       "      <th>SCHEDULING_TYPE</th>\n",
       "      <th>SUBMI_RELEVANT</th>\n",
       "    </tr>\n",
       "  </thead>\n",
       "  <tbody>\n",
       "  </tbody>\n",
       "</table>\n",
       "<p>0 rows × 137 columns</p>\n",
       "</div>"
      ],
      "text/plain": [
       "Empty DataFrame\n",
       "Columns: [LIFNR, LAND1, NAME1, NAME2, NAME3, NAME4, ORT01, ORT02, PFACH, PSTL2, PSTLZ, REGIO, SORTL, STRAS, ADRNR, MCOD1, MCOD2, MCOD3, ANRED, BAHNS, BBBNR, BBSNR, BEGRU, BRSCH, BUBKZ, DATLT, DTAMS, DTAWS, ERDAT, ERNAM, ESRNR, KONZS, KTOKK, ADMIN_BY_MDM, KUNNR, LNRZA, LOEVM, SPERR, SPERM, SPRAS, STCD1, STCD2, STKZA, STKZU, TELBX, TELF1, TELF2, TELFX, TELTX, TELX1, XCPDK, XZEMP, VBUND, FISKN, STCEG, STKZN, SPERQ, GBORT, GBDAT, SEXKZ, KRAUS, REVDB, QSSYS, KTOCK, PFORT, WERKS, LTSNA, WERKR, PLKAL, DUEFL, TXJCD, SPERZ, SCACD, SFRGR, LZONE, XLFZA, DLGRP, FITYP, STCDT, REGSS, ACTSS, STCD3, STCD4, STCD5, IPISP, TAXBS, PROFS, STGDL, EMNFR, LFURL, J_1KFREPRE, J_1KFTBUS, J_1KFTIND, CONFS, UPDAT, UPTIM, NODEL, QSSYSDAT, PODKZB, FISKU, ...]\n",
       "Index: []\n",
       "\n",
       "[0 rows x 137 columns]"
      ]
     },
     "execution_count": 5,
     "metadata": {},
     "output_type": "execute_result"
    }
   ],
   "source": [
    "LFA1_MDM[LFA1_MDM['LAND1'] == 'IR'].head()"
   ]
  },
  {
   "cell_type": "code",
   "execution_count": 6,
   "metadata": {},
   "outputs": [],
   "source": [
    "LFB1_activa = LFB1[LFB1['SOC_STAT'] == 'Activa']"
   ]
  },
  {
   "cell_type": "code",
   "execution_count": 7,
   "metadata": {},
   "outputs": [
    {
     "name": "stdout",
     "output_type": "stream",
     "text": [
      "No. filas en LFB1 activa --->   82278\n"
     ]
    }
   ],
   "source": [
    "print(\"No. filas en LFB1 activa --->  \",LFB1_activa.shape[0])"
   ]
  },
  {
   "cell_type": "markdown",
   "metadata": {},
   "source": [
    "LFB1 activa SPERR Bloqueo Contabilidad para sociedad"
   ]
  },
  {
   "cell_type": "code",
   "execution_count": null,
   "metadata": {},
   "outputs": [],
   "source": [
    "LFB1_activa_bloqueada = LFB1_activa[LFB1_activa['SPERR'] == 'X']"
   ]
  },
  {
   "cell_type": "code",
   "execution_count": null,
   "metadata": {},
   "outputs": [],
   "source": [
    "print(\"No. filas en LFB1 activa con SPERR bloqueada --->  \",LFB1_activa_bloqueada.shape[0])"
   ]
  },
  {
   "cell_type": "markdown",
   "metadata": {},
   "source": [
    "Agrupacion por LIFNR_MDM, al menos una activa"
   ]
  },
  {
   "cell_type": "code",
   "execution_count": 8,
   "metadata": {},
   "outputs": [],
   "source": [
    "contains_activa = LFB1.groupby('LIFNR')['SOC_STAT'].transform(lambda x: (x == 'Activa').any())"
   ]
  },
  {
   "cell_type": "code",
   "execution_count": 9,
   "metadata": {},
   "outputs": [],
   "source": [
    "LFB1_LIFNIR_unica_sin_ninguna_activa =  LFB1[~contains_activa].drop_duplicates(subset=['LIFNR'])\n",
    "LFB1_LIFNR_unica_minimo_una_activa = LFB1[contains_activa].drop_duplicates(subset=['LIFNR'])"
   ]
  },
  {
   "cell_type": "code",
   "execution_count": null,
   "metadata": {},
   "outputs": [],
   "source": [
    "print(\"No. de filas en LFB1 sin ninguna 'Activa' en su grupo LIFNR unica--->  \", LFB1_LIFNIR_unica_sin_ninguna_activa.shape[0])\n",
    "print(\"No. de filas en LFB1 con al menos una 'Activa' en su grupo LIFNR unica --->  \", LFB1_LIFNR_unica_minimo_una_activa.shape[0])"
   ]
  },
  {
   "cell_type": "markdown",
   "metadata": {},
   "source": [
    "Cruce LFA1_MDM | LFB1 con LIFNR agrupado sin actividad y sin marcados para borrado"
   ]
  },
  {
   "cell_type": "code",
   "execution_count": 16,
   "metadata": {},
   "outputs": [],
   "source": [
    "LFA1_MDM_filter = LFA1_MDM[LFA1_MDM[\"LOEVM\"].isna() | LFA1_MDM[\"SPERR\"].isna() ]"
   ]
  },
  {
   "cell_type": "code",
   "execution_count": 17,
   "metadata": {},
   "outputs": [],
   "source": [
    "df_MDM_inner_join_obsolete_mb = pd.merge(LFA1_MDM_filter, LFB1_LIFNIR_unica_sin_ninguna_activa[['LIFNR', 'SOC_STAT']], on='LIFNR', how='inner')"
   ]
  },
  {
   "cell_type": "code",
   "execution_count": 18,
   "metadata": {},
   "outputs": [
    {
     "name": "stdout",
     "output_type": "stream",
     "text": [
      "No. de filas Cruce LFA1_MDM | LFB1 con LIFNR agrupado sin actividad y sin marcados para borrado --->   7837\n"
     ]
    }
   ],
   "source": [
    "print(\"No. de filas Cruce LFA1_MDM | LFB1 con LIFNR agrupado sin actividad y sin marcados para borrado --->  \", df_MDM_inner_join_obsolete_mb.shape[0])"
   ]
  },
  {
   "cell_type": "code",
   "execution_count": 19,
   "metadata": {},
   "outputs": [],
   "source": [
    "df_MDM_inner_join_obsolete_mb.to_excel(r'./Data/Analisis Proveedores Actividad/MDM/MDM_inner_join_Complete_mb06032024.xlsx', index=False, sheet_name=\"Sheet1\")"
   ]
  },
  {
   "cell_type": "code",
   "execution_count": null,
   "metadata": {},
   "outputs": [],
   "source": [
    "LFA1_MDM_sin_marcados_borrado.shape"
   ]
  },
  {
   "cell_type": "markdown",
   "metadata": {},
   "source": [
    "Cruce LFA1_MDM | LFB1 con LIFNR agrupado sin actividad y sin bloqueo central contabilizacion"
   ]
  },
  {
   "cell_type": "code",
   "execution_count": null,
   "metadata": {},
   "outputs": [],
   "source": [
    "LFA1_MDM_sin_bloqueo_cont = LFA1_MDM[LFA1_MDM[\"SPERR\"].isna() & LFA1_MDM[\"SPERM\"].isna()]"
   ]
  },
  {
   "cell_type": "code",
   "execution_count": null,
   "metadata": {},
   "outputs": [],
   "source": [
    "df_MDM_inner_join_obsolete_bc = pd.merge(LFA1_MDM_sin_bloqueo_cont, LFB1_LIFNIR_unica_sin_ninguna_activa[['LIFNR', 'SOC_STAT']], on='LIFNR', how='inner')"
   ]
  },
  {
   "cell_type": "code",
   "execution_count": null,
   "metadata": {},
   "outputs": [],
   "source": [
    "print(\"No. de filas Cruce LFA1_MDM sin bloqueos contabilidad| LFB1 con LIFNR agrupado sin actividad  --->  \", df_MDM_inner_join_obsolete_bc.shape[0])"
   ]
  },
  {
   "cell_type": "code",
   "execution_count": null,
   "metadata": {},
   "outputs": [],
   "source": [
    "df_MDM_inner_join_obsolete_bc.to_excel(r'./Data/Active Analysis/MDM/MDM_inner_join_Complete_bc.xlsx', index=False, sheet_name=\"Sheet1\")"
   ]
  },
  {
   "cell_type": "code",
   "execution_count": null,
   "metadata": {},
   "outputs": [],
   "source": [
    "LFA1_MDM_sin_bloqueo_cont.shape"
   ]
  },
  {
   "cell_type": "code",
   "execution_count": null,
   "metadata": {},
   "outputs": [],
   "source": [
    "import pandas as pd\n",
    "\n",
    "# Paths to your Excel files\n",
    "file_path1 = \"C:\\\\Users\\\\AW581PP\\\\Documents\\\\CuervoDev\\\\CuervoDataXplore\\\\Data\\\\Analisis Proveedores Actividad\\\\MDM\\\\MDM_Cruce_sin_bloqueo_cont.xlsx\"\n",
    "file_path2 = \"C:\\\\Users\\\\AW581PP\\\\Documents\\\\CuervoDev\\\\CuervoDataXplore\\\\Data\\\\Analisis Proveedores Actividad\\\\MDM\\\\MDM_Cruce_sin_marcad_borrado.xlsx\"\n",
    "file_path3 = \"C:\\\\Users\\\\AW581PP\\\\Documents\\\\CuervoDev\\\\CuervoDataXplore\\\\Data\\\\Analisis Proveedores Actividad\\\\LFA1nh.xlsx\"\n",
    "\n",
    "# Reading the LIFNR column from both files with dtype as string to ensure consistency\n",
    "df1 = pd.read_excel(file_path1, dtype={'LIFNR': str})\n",
    "df2 = pd.read_excel(file_path2, dtype={'LIFNR': str})\n",
    "\n",
    "# Combine the LIFNR columns from both dataframes\n",
    "combined_LIFNR = pd.concat([df1['LIFNR'], df2['LIFNR']])\n",
    "\n",
    "# Filter for unique values\n",
    "filtered_LIFNR = combined_LIFNR.unique()\n",
    "\n",
    "# Now read the third file\n",
    "df3 = pd.read_excel(file_path3, dtype={'LIFNR': str})\n",
    "\n",
    "# Filter out the rows from df3 where LIFNR is in filtered_LIFNR\n",
    "filtered_df3 = df3[~df3['LIFNR'].isin(filtered_LIFNR)]\n",
    "\n",
    "filtered_df3.to_excel(r'./Data/Analisis Proveedores Actividad/MDM/MDM_LFA1_activos_sociedad.xlsx', index=False, sheet_name=\"Sheet1\")"
   ]
  },
  {
   "cell_type": "code",
   "execution_count": null,
   "metadata": {},
   "outputs": [],
   "source": []
  }
 ],
 "metadata": {
  "kernelspec": {
   "display_name": ".venv",
   "language": "python",
   "name": "python3"
  },
  "language_info": {
   "codemirror_mode": {
    "name": "ipython",
    "version": 3
   },
   "file_extension": ".py",
   "mimetype": "text/x-python",
   "name": "python",
   "nbconvert_exporter": "python",
   "pygments_lexer": "ipython3",
   "version": "3.11.0"
  }
 },
 "nbformat": 4,
 "nbformat_minor": 2
}
