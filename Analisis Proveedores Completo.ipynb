{
 "cells": [
  {
   "cell_type": "markdown",
   "metadata": {},
   "source": [
    "### Proovedores"
   ]
  },
  {
   "cell_type": "markdown",
   "metadata": {},
   "source": [
    "#### Importaciones y lectura de objetos"
   ]
  },
  {
   "cell_type": "code",
   "execution_count": 1,
   "metadata": {},
   "outputs": [],
   "source": [
    "import pandas as pd"
   ]
  },
  {
   "cell_type": "code",
   "execution_count": 2,
   "metadata": {},
   "outputs": [],
   "source": [
    "LFA1 = pd.read_excel(r\"./Data/Active Analysis/LFA1.xlsx\", dtype='string')\n",
    "LFB1 = pd.read_excel(r\"./Data/Active Analysis/LFB1.xlsx\", dtype='string')"
   ]
  },
  {
   "cell_type": "markdown",
   "metadata": {},
   "source": [
    "Cambiar headers"
   ]
  },
  {
   "cell_type": "code",
   "execution_count": 3,
   "metadata": {},
   "outputs": [],
   "source": [
    "new_headers = LFA1.iloc[0]  \n",
    "LFA1.columns = new_headers  \n",
    "LFA1 = LFA1.iloc[1:]  \n",
    "new_headers = LFB1.iloc[0]  \n",
    "LFB1.columns = new_headers  \n",
    "LFB1 = LFB1.iloc[1:]  \n"
   ]
  },
  {
   "cell_type": "markdown",
   "metadata": {},
   "source": [
    "Division Activa/Obsoleta"
   ]
  },
  {
   "cell_type": "code",
   "execution_count": 4,
   "metadata": {},
   "outputs": [],
   "source": [
    "LFB1_active = LFB1[LFB1['SOC_STAT'] == 'Activa']\n",
    "LFB1_obsoleta = LFB1[LFB1['SOC_STAT'] == 'Obsoleta']"
   ]
  },
  {
   "cell_type": "code",
   "execution_count": 5,
   "metadata": {},
   "outputs": [
    {
     "name": "stdout",
     "output_type": "stream",
     "text": [
      "No. filas en LFB1 activa --->   82278\n",
      "No. filas LFB1 obsoleta  --->   35285\n"
     ]
    }
   ],
   "source": [
    "print(\"No. filas en LFB1 activa --->  \",LFB1_active.shape[0])\n",
    "print(\"No. filas LFB1 obsoleta  --->  \",LFB1_obsoleta.shape[0])"
   ]
  },
  {
   "cell_type": "markdown",
   "metadata": {},
   "source": [
    "LFB1 activa/inactiva SPERR Bloqueo Contabilidad para sociedad"
   ]
  },
  {
   "cell_type": "code",
   "execution_count": 6,
   "metadata": {},
   "outputs": [],
   "source": [
    "LFB1_activa_bloqueada = LFB1_active[LFB1_active['SPERR'] == 'X']\n",
    "LFB1_obsoleta_bloqueada = LFB1_obsoleta[LFB1_obsoleta['SPERR'] == 'X']"
   ]
  },
  {
   "cell_type": "code",
   "execution_count": 7,
   "metadata": {},
   "outputs": [
    {
     "name": "stdout",
     "output_type": "stream",
     "text": [
      "No. filas en LFB1 activa con SPERR bloqueada --->   36572\n",
      "No. filas LFB1 obsoleta con SPERR bloqueada --->   4848\n"
     ]
    }
   ],
   "source": [
    "print(\"No. filas en LFB1 activa con SPERR bloqueada --->  \",LFB1_activa_bloqueada.shape[0])\n",
    "print(\"No. filas LFB1 obsoleta con SPERR bloqueada --->  \",LFB1_obsoleta_bloqueada.shape[0])"
   ]
  },
  {
   "cell_type": "markdown",
   "metadata": {},
   "source": [
    "Agrupacion por LIFNR, al menos una activa"
   ]
  },
  {
   "cell_type": "code",
   "execution_count": 8,
   "metadata": {},
   "outputs": [],
   "source": [
    "contains_activa = LFB1.groupby('LIFNR')['SOC_STAT'].transform(lambda x: (x == 'Activa').any())\n",
    "\n",
    "LFB1_LIFNIR_sin_ninguna_activa = LFB1[~contains_activa]\n",
    "LFB1_LIFNR_minimo_una_activa = LFB1[contains_activa]"
   ]
  },
  {
   "cell_type": "code",
   "execution_count": 11,
   "metadata": {},
   "outputs": [
    {
     "name": "stdout",
     "output_type": "stream",
     "text": [
      "No. de filas en LFB1 sin ninguna 'Activa' en su grupo LIFNR --->   16211\n",
      "No. de filas en LFB1 con al menos una 'Activa' en su grupo LIFNR --->   101352\n"
     ]
    }
   ],
   "source": [
    "print(\"No. de filas en LFB1 sin ninguna 'Activa' en su grupo LIFNR --->  \", LFB1_LIFNIR_sin_ninguna_activa.shape[0])\n",
    "print(\"No. de filas en LFB1 con al menos una 'Activa' en su grupo LIFNR --->  \", LFB1_LIFNR_minimo_una_activa.shape[0])"
   ]
  },
  {
   "cell_type": "code",
   "execution_count": 10,
   "metadata": {},
   "outputs": [],
   "source": [
    "LFB1_LIFNIR_unica_sin_ninguna_activa =  LFB1_LIFNIR_sin_ninguna_activa.drop_duplicates(subset=['LIFNR'])\n",
    "LFB1_LIFNR_unica_minimo_una_activa = LFB1_LIFNR_minimo_una_activa.drop_duplicates(subset=['LIFNR'])"
   ]
  },
  {
   "cell_type": "code",
   "execution_count": 12,
   "metadata": {},
   "outputs": [
    {
     "name": "stdout",
     "output_type": "stream",
     "text": [
      "No. de filas en LFB1 sin ninguna 'Activa' en su grupo LIFNR unica--->   11695\n",
      "No. de filas en LFB1 con al menos una 'Activa' en su grupo LIFNR unica --->   50134\n"
     ]
    }
   ],
   "source": [
    "print(\"No. de filas en LFB1 sin ninguna 'Activa' en su grupo LIFNR unica--->  \", LFB1_LIFNIR_unica_sin_ninguna_activa.shape[0])\n",
    "print(\"No. de filas en LFB1 con al menos una 'Activa' en su grupo LIFNR unica --->  \", LFB1_LIFNR_unica_minimo_una_activa.shape[0])"
   ]
  },
  {
   "cell_type": "markdown",
   "metadata": {},
   "source": [
    "Cruce LFA1 | LFB1 con LIFNR agrupado sin actividad y sin marcados para borrado"
   ]
  },
  {
   "cell_type": "code",
   "execution_count": 35,
   "metadata": {},
   "outputs": [],
   "source": [
    "LFA1_sin_marcados_borrado = LFA1[LFA1[\"LOEVM\"].isna()]"
   ]
  },
  {
   "cell_type": "code",
   "execution_count": 47,
   "metadata": {},
   "outputs": [],
   "source": [
    "df_inner_join_obsolete_mb = pd.merge(LFA1_sin_marcados_borrado, LFB1_LIFNIR_unica_sin_ninguna_activa[['LIFNR', 'SOC_STAT']], on='LIFNR', how='inner')"
   ]
  },
  {
   "cell_type": "code",
   "execution_count": 48,
   "metadata": {},
   "outputs": [
    {
     "name": "stdout",
     "output_type": "stream",
     "text": [
      "No. de filas Cruce LFA1 | LFB1 con LIFNR agrupado sin actividad y sin marcados para borrado --->   11094\n"
     ]
    }
   ],
   "source": [
    "print(\"No. de filas Cruce LFA1 | LFB1 con LIFNR agrupado sin actividad y sin marcados para borrado --->  \", df_inner_join_obsolete_mb.shape[0])"
   ]
  },
  {
   "cell_type": "code",
   "execution_count": 50,
   "metadata": {},
   "outputs": [],
   "source": [
    "df_inner_join_obsolete_mb.to_excel(r'./Data/Active Analysis/inner_join_Complete_mb.xlsx', index=False, sheet_name=\"Sheet1\")"
   ]
  },
  {
   "cell_type": "markdown",
   "metadata": {},
   "source": [
    "Cruce LFA1 | LFB1 con LIFNR agrupado sin actividad y sin bloqueo central contabilizacion"
   ]
  },
  {
   "cell_type": "code",
   "execution_count": 43,
   "metadata": {},
   "outputs": [],
   "source": [
    "LFA1_sin_bloqueo_cont = LFA1[LFA1[\"SPERR\"].isna()]"
   ]
  },
  {
   "cell_type": "code",
   "execution_count": 45,
   "metadata": {},
   "outputs": [],
   "source": [
    "df_inner_join_obsolete_bc = pd.merge(LFA1_sin_bloqueo_cont, LFB1_LIFNIR_unica_sin_ninguna_activa[['LIFNR', 'SOC_STAT']], on='LIFNR', how='inner')"
   ]
  },
  {
   "cell_type": "code",
   "execution_count": 51,
   "metadata": {},
   "outputs": [],
   "source": [
    "df_inner_join_obsolete_bc.to_excel(r'./Data/Active Analysis/inner_join_Complete_bc.xlsx', index=False, sheet_name=\"Sheet1\")"
   ]
  },
  {
   "cell_type": "code",
   "execution_count": 52,
   "metadata": {},
   "outputs": [
    {
     "name": "stdout",
     "output_type": "stream",
     "text": [
      "No. de filas Cruce LFA1 sin bloqueos contabilidad| LFB1 con LIFNR agrupado sin actividad  --->   11208\n"
     ]
    }
   ],
   "source": [
    "print(\"No. de filas Cruce LFA1 sin bloqueos contabilidad| LFB1 con LIFNR agrupado sin actividad  --->  \", df_inner_join_obsolete_bc.shape[0])"
   ]
  }
 ],
 "metadata": {
  "kernelspec": {
   "display_name": ".venv",
   "language": "python",
   "name": "python3"
  },
  "language_info": {
   "codemirror_mode": {
    "name": "ipython",
    "version": 3
   },
   "file_extension": ".py",
   "mimetype": "text/x-python",
   "name": "python",
   "nbconvert_exporter": "python",
   "pygments_lexer": "ipython3",
   "version": "3.11.0"
  }
 },
 "nbformat": 4,
 "nbformat_minor": 2
}
