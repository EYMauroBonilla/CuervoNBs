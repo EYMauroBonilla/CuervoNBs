{
 "cells": [
  {
   "cell_type": "code",
   "execution_count": 1,
   "metadata": {},
   "outputs": [],
   "source": [
    "import pandas as pd"
   ]
  },
  {
   "cell_type": "code",
   "execution_count": 32,
   "metadata": {},
   "outputs": [
    {
     "name": "stdout",
     "output_type": "stream",
     "text": [
      "The grouped data has been saved to grouped_currencies.xlsx\n"
     ]
    }
   ],
   "source": [
    "import pandas as pd\n",
    "\n",
    "file_path = \"C:\\\\Users\\\\AW581PP\\\\OneDrive - EY\\\\Desktop\\\\BSAK 2023-2024 Soc act DUPS.XLSX\"\n",
    "df = pd.read_excel(file_path)\n",
    "\n",
    "currencies = df['Moneda Local Soc'].unique()\n",
    "\n",
    "output_path = \"grouped_currencies.xlsx\"\n",
    "with pd.ExcelWriter(output_path) as writer:\n",
    "    for currency in currencies:\n",
    "        # Filter the data for the current currency\n",
    "        filtered_data = df[df['Moneda Local Soc'] == currency]\n",
    "\n",
    "        # Group by \"Acreedor\", \"Sociedad\", \"Moneda Local Soc\", \"Ejercicio\", and \"Cuenta de mayor\"\n",
    "        # and sum the \"Importe ML\" column\n",
    "        group_columns = ['Acreedor', 'Sociedad', 'Moneda Local Soc', 'Ejercicio', 'Cuenta de mayor']\n",
    "        sum_data = filtered_data.groupby(group_columns, as_index=False)['Importe ML'].sum()\n",
    "\n",
    "        # Write the grouped data to the Excel sheet named after the current currency\n",
    "        sum_data.to_excel(writer, sheet_name=str(currency),index=False)\n",
    "\n",
    "print('The grouped data has been saved to grouped_currencies.xlsx')\n"
   ]
  },
  {
   "cell_type": "code",
   "execution_count": null,
   "metadata": {},
   "outputs": [],
   "source": []
  },
  {
   "cell_type": "code",
   "execution_count": 20,
   "metadata": {},
   "outputs": [
    {
     "data": {
      "text/plain": [
       "Sociedad  Acreedor\n",
       "0250      837410       45682.50\n",
       "          841217       14889.62\n",
       "          1250000     107857.28\n",
       "          1250002      23497.40\n",
       "          1250003        325.12\n",
       "Name: Importe ML, dtype: float64"
      ]
     },
     "execution_count": 20,
     "metadata": {},
     "output_type": "execute_result"
    }
   ],
   "source": [
    "sum_data.head()"
   ]
  },
  {
   "cell_type": "code",
   "execution_count": null,
   "metadata": {},
   "outputs": [],
   "source": []
  }
 ],
 "metadata": {
  "kernelspec": {
   "display_name": ".venv",
   "language": "python",
   "name": "python3"
  },
  "language_info": {
   "codemirror_mode": {
    "name": "ipython",
    "version": 3
   },
   "file_extension": ".py",
   "mimetype": "text/x-python",
   "name": "python",
   "nbconvert_exporter": "python",
   "pygments_lexer": "ipython3",
   "version": "3.11.0"
  }
 },
 "nbformat": 4,
 "nbformat_minor": 2
}
