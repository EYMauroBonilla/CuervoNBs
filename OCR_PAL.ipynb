{
 "cells": [
  {
   "cell_type": "code",
   "execution_count": 52,
   "metadata": {},
   "outputs": [
    {
     "name": "stdout",
     "output_type": "stream",
     "text": [
      "{'altura': [], 'largo': ['1219'], 'ancho': ['1016']}\n"
     ]
    }
   ],
   "source": [
    "from PIL import Image, ImageEnhance, ImageFilter, ImageOps\n",
    "import pytesseract\n",
    "import re\n",
    "import os\n",
    "\n",
    "pytesseract.pytesseract.tesseract_cmd = r'C:\\Users\\AW581PP\\AppData\\Local\\Programs\\Tesseract-OCR\\tesseract.exe'\n",
    "\n",
    "\n",
    "def preprocess_image(image_path):\n",
    "    image = Image.open(image_path)\n",
    "    gray_image = image.convert('L')\n",
    "    enhancer = ImageEnhance.Contrast(gray_image)\n",
    "    contrast_image = enhancer.enhance(3)\n",
    "    sharpened_image = contrast_image.filter(ImageFilter.SHARPEN)\n",
    "    inverted_image = ImageOps.invert(sharpened_image)\n",
    "    return inverted_image\n",
    "\n",
    "def ocr_and_extract_number(image):\n",
    "    custom_config = r'--oem 3 --psm 6 outputbase digits'\n",
    "    text = pytesseract.image_to_string(image, config=custom_config)\n",
    "    numbers = re.findall(r'\\d+', text)\n",
    "    return numbers\n",
    "\n",
    "\n",
    "def crop_to_numbers(image, save_path):\n",
    "    width, height = image.size\n",
    "    crops = {\n",
    "        'altura': (int(312 * 0.75), 0, 312, int(239 * 0.2)),   \n",
    "        'largo': (int(width * 0.66), int(height * 0.8), width, height),\n",
    "        'ancho': (int(width * 0.05), int(height * 0.85), int(width * 0.3), height)  \n",
    "    }\n",
    "    cropped_images = {}\n",
    "    for side, coords in crops.items():\n",
    "        cropped_image = image.crop(coords)\n",
    "        cropped_images[side] = cropped_image\n",
    "\n",
    "        cropped_image.save(os.path.join(save_path, f'{side}_crop.png'))\n",
    "    return cropped_images\n",
    "\n",
    "\n",
    "def extract_numbers_from_image(image_path, save_path):\n",
    "    preprocessed_image = preprocess_image(image_path)\n",
    "    cropped_images = crop_to_numbers(preprocessed_image, save_path)\n",
    "    numbers = {}\n",
    "    for side, img in cropped_images.items():\n",
    "        numbers[side] = ocr_and_extract_number(img)\n",
    "    return numbers\n",
    "\n",
    "\n",
    "image_path = 'extracted_image.png'\n",
    "save_path = 'path_to_save_crops'\n",
    "\n",
    "if not os.path.exists(save_path):\n",
    "    os.makedirs(save_path)\n",
    "\n",
    "extracted_numbers = extract_numbers_from_image(image_path, save_path)\n",
    "print(extracted_numbers)\n"
   ]
  },
  {
   "cell_type": "code",
   "execution_count": null,
   "metadata": {},
   "outputs": [],
   "source": []
  }
 ],
 "metadata": {
  "kernelspec": {
   "display_name": ".venv",
   "language": "python",
   "name": "python3"
  },
  "language_info": {
   "codemirror_mode": {
    "name": "ipython",
    "version": 3
   },
   "file_extension": ".py",
   "mimetype": "text/x-python",
   "name": "python",
   "nbconvert_exporter": "python",
   "pygments_lexer": "ipython3",
   "version": "3.11.0"
  }
 },
 "nbformat": 4,
 "nbformat_minor": 2
}
